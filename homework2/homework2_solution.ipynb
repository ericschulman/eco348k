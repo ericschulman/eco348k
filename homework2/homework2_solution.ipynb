{
 "cells": [
  {
   "cell_type": "code",
   "execution_count": 2,
   "metadata": {},
   "outputs": [],
   "source": [
    "import numpy as np #general library, will come in handy later\n",
    "import random #this library is for choosing random numbers\n",
    "import matplotlib.pyplot as plt #this library is for graphing things\n",
    "import statsmodels.api as sm #this is for linear regression\n",
    "\n",
    "#note this extra library\n",
    "import pandas as pd #another nice library for storing matrices, it rely's on numpy"
   ]
  },
  {
   "cell_type": "code",
   "execution_count": 8,
   "metadata": {},
   "outputs": [
    {
     "name": "stdout",
     "output_type": "stream",
     "text": [
      "2\n"
     ]
    },
    {
     "data": {
      "text/plain": [
       "[<matplotlib.lines.Line2D at 0x7f12ba0cdd90>]"
      ]
     },
     "execution_count": 8,
     "metadata": {},
     "output_type": "execute_result"
    },
    {
     "data": {
      "image/png": "[encoded data removed]",
      "text/plain": [
       "<Figure size 432x288 with 1 Axes>"
      ]
     },
     "metadata": {},
     "output_type": "display_data"
    }
   ],
   "source": [
    "#homework question #2\n",
    "\n",
    "#roll a dice\n",
    "print random.randint(1,6)\n",
    "\n",
    "#save roll into  a list\n",
    "dicerolls = [] #initialize rolls\n",
    "means = []  #also calculate means\n",
    "\n",
    "for i in range(300):\n",
    "    dicerolls.append(random.randint(1,6))\n",
    "    means.append( 1.0*sum(dicerolls)/len(dicerolls) ) #compute mean for each index\n",
    "\n",
    "#graph dice rolls\n",
    "plt.plot(means)"
   ]
  },
  {
   "cell_type": "code",
   "execution_count": null,
   "metadata": {},
   "outputs": [],
   "source": [
    "#hw question #3 \n",
    "\n",
    "#load data and set up variables\n",
    "df = pd.read_csv('CARD.csv')\n",
    "df['exper2'] = df['exper'] * df['exper']\n",
    "\n",
    "\n"
   ]
  },
  {
   "cell_type": "code",
   "execution_count": null,
   "metadata": {},
   "outputs": [],
   "source": [
    "model = sm.OLS(endog=df['lwage'],\n",
    "               exog=df[['educ','exper','exper2','fatheduc','motheduc','black','smsa','south']],\n",
    "               missing='drop')#run a regression of wage against educ without controls\n",
    "\n",
    "results = model.fit()\n",
    "print results.summary() \n"
   ]
  },
  {
   "cell_type": "code",
   "execution_count": null,
   "metadata": {},
   "outputs": [],
   "source": []
  },
  {
   "cell_type": "code",
   "execution_count": null,
   "metadata": {},
   "outputs": [],
   "source": []
  }
 ],
 "metadata": {
  "kernelspec": {
   "display_name": "Python 2",
   "language": "python",
   "name": "python2"
  },
  "language_info": {
   "codemirror_mode": {
    "name": "ipython",
    "version": 2
   },
   "file_extension": ".py",
   "mimetype": "text/x-python",
   "name": "python",
   "nbconvert_exporter": "python",
   "pygments_lexer": "ipython2",
   "version": "2.7.15"
  }
 },
 "nbformat": 4,
 "nbformat_minor": 2
}

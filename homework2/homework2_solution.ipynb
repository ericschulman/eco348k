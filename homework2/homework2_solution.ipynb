{
 "cells": [
  {
   "cell_type": "code",
   "execution_count": 17,
   "metadata": {},
   "outputs": [],
   "source": [
    "import numpy as np #general library, will come in handy later\n",
    "import random #this library is for choosing random numbers\n",
    "import matplotlib.pyplot as plt #this library is for graphing things\n",
    "import statsmodels.api as sm #this is for linear regression\n",
    "\n",
    "#note this extra library\n",
    "import pandas as pd #another nice library for storing matrices, it rely's on numpy"
   ]
  },
  {
   "cell_type": "code",
   "execution_count": 18,
   "metadata": {},
   "outputs": [
    {
     "data": {
      "text/plain": [
       "<matplotlib.lines.Line2D at 0x7f8fe49ae4d0>"
      ]
     },
     "execution_count": 18,
     "metadata": {},
     "output_type": "execute_result"
    },
    {
     "data": {
      "image/png": "[encoded data removed]",
      "text/plain": [
       "<Figure size 432x288 with 1 Axes>"
      ]
     },
     "metadata": {},
     "output_type": "display_data"
    }
   ],
   "source": [
    "#homework question #2\n",
    "\n",
    "dicerolls = [] #initialize rolls\n",
    "means = []  #also calculate means\n",
    "\n",
    "for i in range(300):\n",
    "    dicerolls.append(random.randint(1,6)) #save rolls into  a list\n",
    "    means.append( 1.0*sum(dicerolls)/len(dicerolls) ) #compute mean for each index\n",
    "\n",
    "#graph dice rolls\n",
    "plt.plot(means)\n",
    "plt.axhline(3.5,color='r') #This is assymptotic expected value"
   ]
  },
  {
   "cell_type": "code",
   "execution_count": 19,
   "metadata": {},
   "outputs": [],
   "source": [
    "#hw question #3 \n",
    "\n",
    "#load data and set up variables\n",
    "df = pd.read_csv('CARD.csv')\n",
    "df['exper2'] = df['exper'] * df['exper']"
   ]
  },
  {
   "cell_type": "code",
   "execution_count": 20,
   "metadata": {},
   "outputs": [
    {
     "name": "stdout",
     "output_type": "stream",
     "text": [
      "                            OLS Regression Results                            \n",
      "==============================================================================\n",
      "Dep. Variable:                  lwage   R-squared:                       0.991\n",
      "Model:                            OLS   Adj. R-squared:                  0.991\n",
      "Method:                 Least Squares   F-statistic:                 3.076e+04\n",
      "Date:                Sun, 23 Sep 2018   Prob (F-statistic):               0.00\n",
      "Time:                        11:16:11   Log-Likelihood:                -1996.5\n",
      "No. Observations:                2220   AIC:                             4009.\n",
      "Df Residuals:                    2212   BIC:                             4055.\n",
      "Df Model:                           8                                         \n",
      "Covariance Type:            nonrobust                                         \n",
      "==============================================================================\n",
      "                 coef    std err          t      P>|t|      [0.025      0.975]\n",
      "------------------------------------------------------------------------------\n",
      "educ           0.2568      0.005     56.450      0.000       0.248       0.266\n",
      "exper          0.3510      0.010     34.389      0.000       0.331       0.371\n",
      "exper2        -0.0106      0.001    -18.115      0.000      -0.012      -0.009\n",
      "fatheduc       0.0065      0.005      1.372      0.170      -0.003       0.016\n",
      "motheduc       0.0414      0.005      7.627      0.000       0.031       0.052\n",
      "black          0.0872      0.038      2.325      0.020       0.014       0.161\n",
      "smsa           0.2484      0.029      8.515      0.000       0.191       0.306\n",
      "south          0.0630      0.028      2.288      0.022       0.009       0.117\n",
      "==============================================================================\n",
      "Omnibus:                       25.525   Durbin-Watson:                   1.789\n",
      "Prob(Omnibus):                  0.000   Jarque-Bera (JB):               29.318\n",
      "Skew:                          -0.201   Prob(JB):                     4.30e-07\n",
      "Kurtosis:                       3.394   Cond. No.                         358.\n",
      "==============================================================================\n",
      "\n",
      "Warnings:\n",
      "[1] Standard Errors assume that the covariance matrix of the errors is correctly specified.\n"
     ]
    }
   ],
   "source": [
    "#part a\n",
    "model = sm.OLS(endog=df['lwage'],\n",
    "               exog=df[['educ','exper','exper2','fatheduc','motheduc','black','smsa','south']],\n",
    "               missing='drop')#run a regression of wage against educ without controls\n",
    "\n",
    "results = model.fit()\n",
    "print results.summary() "
   ]
  },
  {
   "cell_type": "code",
   "execution_count": 21,
   "metadata": {},
   "outputs": [
    {
     "name": "stdout",
     "output_type": "stream",
     "text": [
      "                            OLS Regression Results                            \n",
      "==============================================================================\n",
      "Dep. Variable:                   educ   R-squared:                       0.961\n",
      "Model:                            OLS   Adj. R-squared:                  0.961\n",
      "Method:                 Least Squares   F-statistic:                     6760.\n",
      "Date:                Sun, 23 Sep 2018   Prob (F-statistic):               0.00\n",
      "Time:                        11:16:11   Log-Likelihood:                -5395.4\n",
      "No. Observations:                2220   AIC:                         1.081e+04\n",
      "Df Residuals:                    2212   BIC:                         1.085e+04\n",
      "Df Model:                           8                                         \n",
      "Covariance Type:            nonrobust                                         \n",
      "==============================================================================\n",
      "                 coef    std err          t      P>|t|      [0.025      0.975]\n",
      "------------------------------------------------------------------------------\n",
      "nearc4         0.9506      0.135      7.037      0.000       0.686       1.216\n",
      "exper          0.8689      0.044     19.942      0.000       0.783       0.954\n",
      "exper2        -0.0478      0.003    -19.019      0.000      -0.053      -0.043\n",
      "fatheduc       0.2850      0.021     13.629      0.000       0.244       0.326\n",
      "motheduc       0.5065      0.023     22.316      0.000       0.462       0.551\n",
      "black          0.8299      0.173      4.808      0.000       0.491       1.168\n",
      "smsa           1.0190      0.140      7.261      0.000       0.744       1.294\n",
      "south          1.0010      0.127      7.893      0.000       0.752       1.250\n",
      "==============================================================================\n",
      "Omnibus:                       29.228   Durbin-Watson:                   1.715\n",
      "Prob(Omnibus):                  0.000   Jarque-Bera (JB):               30.063\n",
      "Skew:                           0.283   Prob(JB):                     2.96e-07\n",
      "Kurtosis:                       3.066   Cond. No.                         356.\n",
      "==============================================================================\n",
      "\n",
      "Warnings:\n",
      "[1] Standard Errors assume that the covariance matrix of the errors is correctly specified.\n"
     ]
    }
   ],
   "source": [
    "#part c) ii)\n",
    "\n",
    "stage1 = sm.OLS(endog=df['educ'],\n",
    "               exog=df[['nearc4','exper','exper2','fatheduc','motheduc','black','smsa','south']],\n",
    "               missing='drop')\n",
    "\n",
    "stage1_results = stage1.fit()\n",
    "print stage1_results.summary() "
   ]
  },
  {
   "cell_type": "code",
   "execution_count": 22,
   "metadata": {},
   "outputs": [
    {
     "name": "stdout",
     "output_type": "stream",
     "text": [
      "                            OLS Regression Results                            \n",
      "==============================================================================\n",
      "Dep. Variable:                  lwage   R-squared:                       0.979\n",
      "Model:                            OLS   Adj. R-squared:                  0.979\n",
      "Method:                 Least Squares   F-statistic:                 1.274e+04\n",
      "Date:                Sun, 23 Sep 2018   Prob (F-statistic):               0.00\n",
      "Time:                        11:16:12   Log-Likelihood:                -2961.2\n",
      "No. Observations:                2220   AIC:                             5938.\n",
      "Df Residuals:                    2212   BIC:                             5984.\n",
      "Df Model:                           8                                         \n",
      "Covariance Type:            nonrobust                                         \n",
      "===============================================================================\n",
      "                  coef    std err          t      P>|t|      [0.025      0.975]\n",
      "-------------------------------------------------------------------------------\n",
      "fitted_educ     0.3417      0.047      7.198      0.000       0.249       0.435\n",
      "exper           0.2734      0.046      5.981      0.000       0.184       0.363\n",
      "exper2         -0.0064      0.003     -2.553      0.011      -0.011      -0.001\n",
      "fatheduc       -0.0190      0.016     -1.199      0.231      -0.050       0.012\n",
      "motheduc       -0.0022      0.026     -0.086      0.931      -0.052       0.048\n",
      "black           0.0130      0.071      0.183      0.855      -0.126       0.152\n",
      "smsa            0.1330      0.078      1.703      0.089      -0.020       0.286\n",
      "south          -0.0127      0.060     -0.212      0.832      -0.130       0.104\n",
      "==============================================================================\n",
      "Omnibus:                       34.961   Durbin-Watson:                   1.620\n",
      "Prob(Omnibus):                  0.000   Jarque-Bera (JB):               40.880\n",
      "Skew:                           0.244   Prob(JB):                     1.33e-09\n",
      "Kurtosis:                       3.452   Cond. No.                         687.\n",
      "==============================================================================\n",
      "\n",
      "Warnings:\n",
      "[1] Standard Errors assume that the covariance matrix of the errors is correctly specified.\n"
     ]
    }
   ],
   "source": [
    "#part c) iii)\n",
    "\n",
    "df['fitted_educ'] = stage1_results.fittedvalues\n",
    "\n",
    "stage2 = sm.OLS(endog=df['lwage'],\n",
    "               exog=df[['fitted_educ','exper','exper2','fatheduc','motheduc','black','smsa','south']],\n",
    "               missing='drop')\n",
    "\n",
    "stage2_results = stage2.fit()\n",
    "print stage2_results.summary() #note, the standard errors are not correct"
   ]
  }
 ],
 "metadata": {
  "kernelspec": {
   "display_name": "Python 2",
   "language": "python",
   "name": "python2"
  },
  "language_info": {
   "codemirror_mode": {
    "name": "ipython",
    "version": 2
   },
   "file_extension": ".py",
   "mimetype": "text/x-python",
   "name": "python",
   "nbconvert_exporter": "python",
   "pygments_lexer": "ipython2",
   "version": "2.7.15"
  }
 },
 "nbformat": 4,
 "nbformat_minor": 2
}

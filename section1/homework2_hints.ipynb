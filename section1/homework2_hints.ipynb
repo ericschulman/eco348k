{
 "cells": [
  {
   "cell_type": "code",
   "execution_count": null,
   "metadata": {},
   "outputs": [],
   "source": [
    "import numpy as np #general library, will come in handy later\n",
    "import random #this library is for choosing random numbers\n",
    "import matplotlib.pyplot as plt #this library is for graphing things\n",
    "import statsmodels.api as sm #this is for linear regression\n",
    "\n",
    "#note this extra library\n",
    "import pandas as pd #another nice library for storing matrices, it rely's on numpy"
   ]
  },
  {
   "cell_type": "code",
   "execution_count": null,
   "metadata": {},
   "outputs": [],
   "source": [
    "#homework question #2 hints - rolling dice and plotting things\n",
    "\n",
    "#roll a dice\n",
    "print random.randint(1,6)\n",
    "\n",
    "#save roll into  a list\n",
    "dicerolls = [] #initialize results\n",
    "for i in range(10):\n",
    "    dicerolls.append(random.randint(1,6))\n",
    "\n",
    "#graph dice rolls\n",
    "plt.plot(dicerolls,'bo')\n",
    "\n",
    "# this post might give you a sense of what we want to see:\n",
    "# https://math.stackexchange.com/questions/1125087/is-the-law-of-large-numbers-empirically-proven/\n",
    "\n",
    "# for more information on plotting: https://matplotlib.org/users/pyplot_tutorial.html\n",
    "# for more information on random: https://docs.python.org/2/library/random.html"
   ]
  },
  {
   "cell_type": "code",
   "execution_count": null,
   "metadata": {},
   "outputs": [],
   "source": [
    "#hw question #3 hints - linear regression in python\n",
    "\n",
    "df = pd.read_csv('CARD.csv') #if you have trouble loading data make sure it is in the same directory as your notebook\n",
    "\n",
    "model = sm.OLS(endog=df['lwage'],exog=df['educ'],missing='drop')#run a regression of wage against educ without controls\n",
    "results = model.fit()\n",
    "print results.summary() \n",
    "\n",
    "# the following documentation will be helpful for estimating Card's2 stage model:\n",
    "# https://www.statsmodels.org/dev/generated/statsmodels.sandbox.regression.gmm.IV2SLS.html\n",
    "# If you have trouble using this function on the homework,\n",
    "#remember you can just estimate the coefficients, by running 2 carefully specificed regressions\n",
    "\n",
    "#https://www.statsmodels.org/dev/examples/notebooks/generated/ols.html for more information about statsmodels"
   ]
  },
  {
   "cell_type": "code",
   "execution_count": null,
   "metadata": {},
   "outputs": [],
   "source": [
    "#as promised, these are the various attributes you can access within 'results':\n",
    "#https://www.statsmodels.org/dev/generated/statsmodels.regression.linear_model.RegressionResults.html\n",
    "#below I print the fitted residuals and the coeficients\n",
    "print results.params\n",
    "print results.resid"
   ]
  },
  {
   "cell_type": "code",
   "execution_count": null,
   "metadata": {},
   "outputs": [],
   "source": []
  }
 ],
 "metadata": {
  "kernelspec": {
   "display_name": "Python 2",
   "language": "python",
   "name": "python2"
  },
  "language_info": {
   "codemirror_mode": {
    "name": "ipython",
    "version": 2
   },
   "file_extension": ".py",
   "mimetype": "text/x-python",
   "name": "python",
   "nbconvert_exporter": "python",
   "pygments_lexer": "ipython2",
   "version": "2.7.15"
  }
 },
 "nbformat": 4,
 "nbformat_minor": 2
}

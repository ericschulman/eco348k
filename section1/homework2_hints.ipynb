{
 "cells": [
  {
   "cell_type": "code",
   "execution_count": 1,
   "metadata": {},
   "outputs": [],
   "source": [
    "import numpy as np #general library, will come in handy later\n",
    "import random #this library is for choosing random numbers\n",
    "import matplotlib.pyplot as plt #this library is for graphing things\n",
    "import statsmodels.api as sm #this is for linear regression\n",
    "\n",
    "#note this extra library\n",
    "import pandas as pd #another nice library for storing matrices, it rely's on numpy"
   ]
  },
  {
   "cell_type": "code",
   "execution_count": 3,
   "metadata": {},
   "outputs": [
    {
     "name": "stdout",
     "output_type": "stream",
     "text": [
      "3\n"
     ]
    },
    {
     "data": {
      "text/plain": [
       "[<matplotlib.lines.Line2D at 0x7fd575ef9a90>]"
      ]
     },
     "execution_count": 3,
     "metadata": {},
     "output_type": "execute_result"
    },
    {
     "data": {
      "image/png": "[encoded data removed]",
      "text/plain": [
       "<Figure size 432x288 with 1 Axes>"
      ]
     },
     "metadata": {},
     "output_type": "display_data"
    }
   ],
   "source": [
    "#homework question #2 hints - rolling dice and plotting things\n",
    "\n",
    "#roll a dice\n",
    "print random.randint(1,6)\n",
    "\n",
    "#save roll into  a list\n",
    "dicerolls = [] #initialize results\n",
    "for i in range(10):\n",
    "    dicerolls.append(random.randint(1,6))\n",
    "\n",
    "#graph dice rolls\n",
    "plt.plot(dicerolls,'bo')\n",
    "\n",
    "# this post might give you a sense of what we want to see:\n",
    "# https://math.stackexchange.com/questions/1125087/is-the-law-of-large-numbers-empirically-proven/\n",
    "\n",
    "# for more information on plotting: https://matplotlib.org/users/pyplot_tutorial.html\n",
    "# for more information on random: https://docs.python.org/2/library/random.html"
   ]
  },
  {
   "cell_type": "code",
   "execution_count": 2,
   "metadata": {},
   "outputs": [
    {
     "name": "stdout",
     "output_type": "stream",
     "text": [
      "         lwage  educ  exper  fatheduc  motheduc  black  smsa  south  nearc4\n",
      "0     6.306275     7     16       NaN       NaN      1     1      0       0\n",
      "1     6.175867    12      9       8.0       8.0      0     1      0       0\n",
      "2     6.580639    12     16      14.0      12.0      0     1      0       0\n",
      "3     5.521461    11     10      11.0      12.0      0     1      0       1\n",
      "4     6.591674    12     16       8.0       7.0      0     1      0       1\n",
      "5     6.214608    12      8       9.0      12.0      0     1      0       1\n",
      "6     6.336826    18      9      14.0      14.0      0     1      0       1\n",
      "7     6.410175    14      9      14.0      14.0      0     1      0       1\n",
      "8     6.052089    12     10      12.0      12.0      0     1      0       1\n",
      "9     6.244167    12     11      12.0      12.0      0     1      0       1\n",
      "10    5.416101     9     13      11.0      12.0      0     1      0       1\n",
      "11    5.991465    12      8      11.0       6.0      0     1      0       1\n",
      "12    6.033086    11      7      11.0       6.0      0     1      0       1\n",
      "13    5.379897    11     13      11.0       6.0      0     1      0       1\n",
      "14    6.795706    16      9       NaN       8.0      1     1      0       1\n",
      "15    5.703783    14      4      15.0      12.0      0     1      0       1\n",
      "16    5.846439    12     16      12.0       8.0      0     1      0       1\n",
      "17    6.489205    14      9       NaN      12.0      0     1      0       1\n",
      "18    6.354370    10     10       8.0       8.0      0     1      0       1\n",
      "19    6.475433    12     14       8.0       8.0      0     1      0       1\n",
      "20    6.850126    18      8      12.0      13.0      0     1      1       1\n",
      "21    6.419995    18     10       NaN       8.0      0     1      0       1\n",
      "22    6.587550    15     11       5.0      14.0      0     0      0       1\n",
      "23    6.403574    12     10      14.0      12.0      0     1      0       1\n",
      "24    6.541030    12     14      11.0      12.0      0     1      0       1\n",
      "25    7.244227    18     10      14.0      13.0      0     0      0       1\n",
      "26    5.703783    12      8       7.0      12.0      0     1      0       1\n",
      "27    7.495542    18      8      16.0      16.0      0     1      0       1\n",
      "28    6.023448    12      7      11.0      12.0      0     1      0       1\n",
      "29    6.448889    14      9       NaN      16.0      0     0      0       1\n",
      "...        ...   ...    ...       ...       ...    ...   ...    ...     ...\n",
      "2980  6.437752    16      8       5.0       8.0      1     0      1       0\n",
      "2981  5.537334    12     12       NaN       NaN      1     0      1       0\n",
      "2982  6.109248     9     12       NaN       NaN      0     0      1       0\n",
      "2983  5.926926    12      6       NaN       NaN      1     0      1       0\n",
      "2984  5.703783    12      8       0.0       7.0      1     1      0       0\n",
      "2985  5.897154    12      8       8.0      10.0      1     0      1       0\n",
      "2986  6.620073    18      3       NaN       NaN      1     1      0       0\n",
      "2987  6.378426    15      7       3.0       8.0      1     1      1       0\n",
      "2988  5.579730    10     15       0.0       2.0      1     1      1       0\n",
      "2989  5.703783     9     10       0.0       2.0      1     1      1       0\n",
      "2990  5.966147     6     21       NaN       NaN      1     0      1       0\n",
      "2991  6.214608    10     15       NaN      12.0      0     0      1       0\n",
      "2992  6.109248    12     11       NaN      12.0      0     0      1       0\n",
      "2993  5.572154    12      9       7.0       7.0      0     0      1       0\n",
      "2994  6.068426    14      7       5.0      12.0      0     0      1       0\n",
      "2995  5.257495    10     14       NaN       4.0      1     0      1       0\n",
      "2996  6.720220    14     14       8.0       8.0      0     0      1       0\n",
      "2997  6.240276    16      8      16.0      16.0      1     1      1       1\n",
      "2998  6.270988    13     11       4.0       9.0      1     1      0       1\n",
      "2999  5.953243    16      4       NaN      11.0      1     0      1       1\n",
      "3000  6.214608    13      8       6.0       8.0      0     0      1       1\n",
      "3001  6.568078    15      8      16.0      18.0      0     1      1       1\n",
      "3002  6.156979    16      5      16.0      18.0      0     1      1       1\n",
      "3003  6.152733    12      6       NaN       7.0      1     0      1       1\n",
      "3004  6.023448    13      6       NaN       NaN      1     1      0       1\n",
      "3005  5.814130    12      7       8.0      12.0      0     0      1       1\n",
      "3006  6.175867    13     15       NaN       NaN      0     1      1       1\n",
      "3007  6.214608    12      6      11.0       NaN      0     0      1       1\n",
      "3008  6.569481    12     13       NaN       NaN      0     0      1       1\n",
      "3009  6.263398    13      7       NaN       NaN      1     0      1       1\n",
      "\n",
      "[3010 rows x 9 columns]\n",
      "                            OLS Regression Results                            \n",
      "==============================================================================\n",
      "Dep. Variable:                  lwage   R-squared:                       0.968\n",
      "Model:                            OLS   Adj. R-squared:                  0.968\n",
      "Method:                 Least Squares   F-statistic:                 3.975e+04\n",
      "Date:                Tue, 18 Sep 2018   Prob (F-statistic):               0.00\n",
      "Time:                        14:49:52   Log-Likelihood:                -4094.9\n",
      "No. Observations:                2657   AIC:                             8194.\n",
      "Df Residuals:                    2655   BIC:                             8206.\n",
      "Df Model:                           2                                         \n",
      "Covariance Type:            nonrobust                                         \n",
      "==============================================================================\n",
      "                 coef    std err          t      P>|t|      [0.025      0.975]\n",
      "------------------------------------------------------------------------------\n",
      "educ           0.3825      0.006     64.054      0.000       0.371       0.394\n",
      "motheduc       0.0904      0.008     11.975      0.000       0.076       0.105\n",
      "==============================================================================\n",
      "Omnibus:                       14.995   Durbin-Watson:                   1.619\n",
      "Prob(Omnibus):                  0.001   Jarque-Bera (JB):               15.245\n",
      "Skew:                           0.167   Prob(JB):                     0.000489\n",
      "Kurtosis:                       3.160   Cond. No.                         7.53\n",
      "==============================================================================\n",
      "\n",
      "Warnings:\n",
      "[1] Standard Errors assume that the covariance matrix of the errors is correctly specified.\n"
     ]
    }
   ],
   "source": [
    "#hw question #3 hints - linear regression in python\n",
    "\n",
    "df = pd.read_csv('CARD.csv') #if you have trouble loading data make sure it is in the same directory as your notebook\n",
    "\n",
    "print df\n",
    "\n",
    "model = sm.OLS(endog=df['lwage'],exog=df[['educ','motheduc']],missing='drop')#run a regression of wage against educ without controls\n",
    "results = model.fit()\n",
    "print results.summary() \n",
    "\n",
    "# the following documentation will be helpful for estimating Card's2 stage model:\n",
    "# https://www.statsmodels.org/dev/generated/statsmodels.sandbox.regression.gmm.IV2SLS.html\n",
    "# If you have trouble using this function on the homework,\n",
    "#remember you can just estimate the coefficients, by running 2 carefully specificed regressions\n",
    "\n",
    "#https://www.statsmodels.org/dev/examples/notebooks/generated/ols.html for more information about statsmodels"
   ]
  },
  {
   "cell_type": "code",
   "execution_count": null,
   "metadata": {},
   "outputs": [],
   "source": [
    "#as promised, these are the various attributes you can access within 'results':\n",
    "#https://www.statsmodels.org/dev/generated/statsmodels.regression.linear_model.RegressionResults.html\n",
    "#below I print the fitted residuals and the coeficients\n",
    "print results.params\n",
    "print results.resid"
   ]
  },
  {
   "cell_type": "code",
   "execution_count": null,
   "metadata": {},
   "outputs": [],
   "source": []
  }
 ],
 "metadata": {
  "kernelspec": {
   "display_name": "Python 2",
   "language": "python",
   "name": "python2"
  },
  "language_info": {
   "codemirror_mode": {
    "name": "ipython",
    "version": 2
   },
   "file_extension": ".py",
   "mimetype": "text/x-python",
   "name": "python",
   "nbconvert_exporter": "python",
   "pygments_lexer": "ipython2",
   "version": "2.7.15"
  }
 },
 "nbformat": 4,
 "nbformat_minor": 2
}

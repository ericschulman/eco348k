{
 "cells": [
  {
   "cell_type": "code",
   "execution_count": null,
   "metadata": {},
   "outputs": [],
   "source": [
    "import numpy as np"
   ]
  },
  {
   "cell_type": "code",
   "execution_count": null,
   "metadata": {},
   "outputs": [],
   "source": [
    "#basic addition - what will they evaluate to?\n",
    "print 1+1\n",
    "print 1+ 0.0\n",
    "print 1/2 #integer division is tricky\n",
    "print 1/2.0"
   ]
  },
  {
   "cell_type": "code",
   "execution_count": null,
   "metadata": {},
   "outputs": [],
   "source": [
    "#string slicing\n",
    "eric = 'eric'\n",
    "print eric[1] # remember indexing starts at 0\n",
    "\n",
    "#lists\n",
    "list0 = [3.0,'r',1,'c']\n",
    "print list0[-1]  #can also slice from the end\n",
    "\n",
    "print list0[1:len(list1)-1] #cut out the first and last element\n",
    "print list0[1:-1] #does the same"
   ]
  },
  {
   "cell_type": "code",
   "execution_count": null,
   "metadata": {},
   "outputs": [],
   "source": [
    "#basic for loop with lists\n",
    "for i in list0:\n",
    "    print i\n",
    "\n",
    "#also works for strings\n",
    "for i in eric:\n",
    "    print i"
   ]
  },
  {
   "cell_type": "code",
   "execution_count": null,
   "metadata": {},
   "outputs": [],
   "source": [
    "#booleans - what will they evaluate to?\n",
    "\n",
    "print True and True\n",
    "print True and False\n",
    "print True and not False\n",
    "\n",
    "print False and 1/0 #will these be the same?\n",
    "print 1/0 and False"
   ]
  },
  {
   "cell_type": "code",
   "execution_count": null,
   "metadata": {},
   "outputs": [],
   "source": [
    "#numpy example data types\n",
    "list1 = np.array( [0.0, 0.0, 0.0] )\n",
    "list2 = np.array( [0, 0, .9]  )\n",
    "list3 = np.array( [.9, .9, .9], dtype=np.int16  )\n",
    "\n",
    "print list1\n",
    "print list2\n",
    "print list3\n",
    "\n",
    "list4 = np.array( ['a',1,3.0] , dtype=np.int16  ) #will this work?"
   ]
  },
  {
   "cell_type": "code",
   "execution_count": null,
   "metadata": {},
   "outputs": [],
   "source": [
    "#multilevel arrays\n",
    "\n",
    "matrix1 = [[ 'a', 'b', 'c'],\n",
    "         [ 'e', 'f', 'g']]\n",
    "matrix2 = [[ 'a', 'b', 'c'],\n",
    "         [ 'e', 'f', 1.0]]\n",
    "\n",
    "print matrix1[1][0] #slicing matrixes, works like strings\n",
    "print np.array(matrix1) #can cast matrix to np.array\n",
    "print np.array(matrix2) #will this one work?"
   ]
  },
  {
   "cell_type": "code",
   "execution_count": null,
   "metadata": {},
   "outputs": [],
   "source": [
    "matrix3 = [[0, 0, 0],\n",
    "         [.9, .9, .9]]\n",
    "\n",
    "matrix4 = [[.9, .9, .9],\n",
    "         [.9, .9, .9]]\n",
    "\n",
    "print np.array(matrix3) #only one data type allowed\n",
    "print np.array(matrix3,dtype=object) # can circumvented\n",
    "\n",
    "print np.array(matrix4,dtype=np.int16 ) #casting to int is still allowed"
   ]
  },
  {
   "cell_type": "code",
   "execution_count": null,
   "metadata": {},
   "outputs": [],
   "source": []
  }
 ],
 "metadata": {
  "kernelspec": {
   "display_name": "Python 2",
   "language": "python",
   "name": "python2"
  },
  "language_info": {
   "codemirror_mode": {
    "name": "ipython",
    "version": 2
   },
   "file_extension": ".py",
   "mimetype": "text/x-python",
   "name": "python",
   "nbconvert_exporter": "python",
   "pygments_lexer": "ipython2",
   "version": "2.7.15"
  }
 },
 "nbformat": 4,
 "nbformat_minor": 2
}

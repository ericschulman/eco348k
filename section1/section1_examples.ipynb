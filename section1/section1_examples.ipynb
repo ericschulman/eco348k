{
 "cells": [
  {
   "cell_type": "code",
   "execution_count": null,
   "metadata": {},
   "outputs": [],
   "source": [
    "import numpy as np #general library, will come in handy later\n",
    "import random #this library is for choosing random numbers\n",
    "import matplotlib.pyplot as plt #this library is for graphing things\n",
    "import statsmodels.api as sm #this is for linear regression"
   ]
  },
  {
   "cell_type": "code",
   "execution_count": null,
   "metadata": {},
   "outputs": [],
   "source": [
    "#basic addition examples\n",
    "\n",
    "#what will these evaluate to?\n",
    "print 1+1\n",
    "print 1+ 0.0\n",
    "print 1/2 #integer division is tricky, this will differ depending on python \n",
    "print 1/2.0"
   ]
  },
  {
   "cell_type": "code",
   "execution_count": null,
   "metadata": {},
   "outputs": [],
   "source": [
    "#string and lists examples \n",
    "\n",
    "#strings\n",
    "string0 = 'eric' #variable definition\n",
    "print string0[0] #remember indexing starts at 0\n",
    "\n",
    "#lists\n",
    "list0 = [3.0,'r',1,'c']\n",
    "print list0[-1]  #can also slice from the end\n",
    "\n",
    "#more slicing tutorials\n",
    "print string0[1:len(string0)-1] #cut out the first and last element\n",
    "print list0[1:-1] #does the same"
   ]
  },
  {
   "cell_type": "code",
   "execution_count": null,
   "metadata": {},
   "outputs": [],
   "source": [
    "#basic for loop with lists\n",
    "for i in list0:\n",
    "    print i\n",
    "\n",
    "#also works for strings\n",
    "for i in list0:\n",
    "    print i\n",
    "    \n",
    "#while loop syntax\n",
    "i = 0\n",
    "while i < 3:\n",
    "    print i\n",
    "    i = i +1"
   ]
  },
  {
   "cell_type": "code",
   "execution_count": null,
   "metadata": {},
   "outputs": [],
   "source": [
    "#booleans\n",
    "#what will they evaluate to?\n",
    "print True and True\n",
    "print True and False\n",
    "print True and not False\n",
    "\n",
    "\n",
    "#these are tricky\n",
    "print False and 1/0 #will these be the same?\n",
    "print 1/0 and False"
   ]
  },
  {
   "cell_type": "code",
   "execution_count": null,
   "metadata": {},
   "outputs": [],
   "source": [
    "#numpy data types (static typing)\n",
    "\n",
    "#setting variables\n",
    "list1 = np.array( [0.0, 0.0, 0.0] )\n",
    "list2 = np.array( [0, 0, .9]  )\n",
    "list3 = np.array( [.9, .9, .9], dtype=np.int16  )\n",
    "\n",
    "#what will they evaluate to?\n",
    "print list1\n",
    "print list2\n",
    "print list3\n",
    "\n",
    "#numpy will force every element of the array to have the same type\n",
    "list4 = np.array( ['a',1,3.0] , dtype=np.int16  ) #will this work?"
   ]
  },
  {
   "cell_type": "code",
   "execution_count": null,
   "metadata": {},
   "outputs": [],
   "source": [
    "#multilevel arrays and numpy\n",
    "\n",
    "#setting variables\n",
    "matrix1 = [[ 'a', 'b', 'c'],\n",
    "         [ 'e', 'f', 'g']]\n",
    "matrix2 = [[ 'a', 'b', 'c'],\n",
    "         [ 'e', 'f', 1.0]]\n",
    "\n",
    "#what will they evaluate to?\n",
    "print matrix1[1][0] #slicing matrixes, works like strings\n",
    "print np.array(matrix1) #can cast matrix to np.array\n",
    "print np.array(matrix2) #will this one work?"
   ]
  },
  {
   "cell_type": "code",
   "execution_count": null,
   "metadata": {},
   "outputs": [],
   "source": [
    "#dynamic vs statically typed arrays, this is tricky\n",
    "\n",
    "#set variables\n",
    "matrix3 = [[0, 0, 0],\n",
    "         [.9, .9, .9]]\n",
    "matrix4 = [[.9, .9, .9],\n",
    "         [.9, .9, .9]]\n",
    "\n",
    "#what will they evaluate to?\n",
    "print np.array(matrix3) #only one data type allowed\n",
    "print np.array(matrix3,dtype=object) # can circumvented\n",
    "print np.array(matrix4,dtype=np.int16 ) #casting to int is still allowed\n",
    "\n",
    "#for more information: https://docs.scipy.org/doc/numpy/user/basics.types.html"
   ]
  },
  {
   "cell_type": "code",
   "execution_count": null,
   "metadata": {},
   "outputs": [],
   "source": []
  }
 ],
 "metadata": {
  "kernelspec": {
   "display_name": "Python 2",
   "language": "python",
   "name": "python2"
  },
  "language_info": {
   "codemirror_mode": {
    "name": "ipython",
    "version": 2
   },
   "file_extension": ".py",
   "mimetype": "text/x-python",
   "name": "python",
   "nbconvert_exporter": "python",
   "pygments_lexer": "ipython2",
   "version": "2.7.15"
  }
 },
 "nbformat": 4,
 "nbformat_minor": 2
}

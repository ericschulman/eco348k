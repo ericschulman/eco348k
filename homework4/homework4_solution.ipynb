{
 "cells": [
  {
   "cell_type": "code",
   "execution_count": 4,
   "metadata": {},
   "outputs": [],
   "source": [
    "import numpy as np #general library, will come in handy later\n",
    "import pandas as pd #another nice library for storing matrices, it rely's on numpy\n",
    "\n",
    "import matplotlib.pyplot as plt #this library is for graphing things\n",
    "\n",
    "#stuff for pre-processing\n",
    "from sklearn.preprocessing import PolynomialFeatures\n",
    "\n",
    "from sklearn.linear_model import Lasso #These libraries have the necessary models\n",
    "from sklearn.metrics import mean_squared_error\n",
    "from sklearn.linear_model import LassoCV\n",
    "from sklearn.model_selection import cross_val_score # a cheat for cross_validation"
   ]
  },
  {
   "cell_type": "markdown",
   "metadata": {},
   "source": [
    "# Part a\n",
    "\n",
    "First we load the data into memory. We can see that there are 11 variables in the data set and 10 dependent variables. \n",
    "\n",
    "## Calculating the number of observations\n",
    "\n",
    "\n",
    "* There are 6 continuous variables i.e. income, Limit, Rating, Cards, Age, Education are continuous.\n",
    "\n",
    "* We must also conisder the square of these for 6 more terms.\n",
    "\n",
    "* There are 4 binary variables. Gender, student, married are binary and take 2 values and ethnicity can take 3 values. Thus, we must consider 5 dummy variables.\n",
    "\n",
    "* There are 11 choose 2 = 55 interactions between all of these terms.\n",
    "\n",
    "\n",
    "In total, I count 72 terms (Without the intercept). Clearly we would be overfitting if we included all of these predictors in our model.\n",
    "\n",
    "There were many ways to set up the data. But, when setting up dummy variables it is easy to have 'collinearity' This means that 2 of your columns have the exact same values (or a linear combinition of eachother). When this happens, your coefficients will be very small. You should avoid this on future assignments\n",
    "\n",
    "\n",
    "\n",
    "## Preprocessing libraries\n",
    "\n",
    "There are a few useful functions to do the pre-processing. You did not need to use them, but they do exist. After the fact, I realize many of you did not know this and I should have included this in the hints.\n",
    "\n",
    "For creating dummies you can use:\n",
    "\n",
    "https://pandas.pydata.org/pandas-docs/stable/generated/pandas.get_dummies.html\n",
    "\n",
    "Additionally, you can use the following to generate the interactions:\n",
    "\n",
    "https://scikit-learn.org/stable/modules/generated/sklearn.preprocessing.PolynomialFeatures.html"
   ]
  },
  {
   "cell_type": "code",
   "execution_count": 11,
   "metadata": {},
   "outputs": [
    {
     "name": "stdout",
     "output_type": "stream",
     "text": [
      "Number of observations: 400\n",
      "Number of predictors: 72\n"
     ]
    }
   ],
   "source": [
    "#load data\n",
    "df = pd.read_csv('credit.csv')\n",
    "nobs = df.count()['Balance']\n",
    "\n",
    "print 'Number of observations: %s'%nobs\n",
    "\n",
    "#set up dependent variable\n",
    "y = df['Balance']\n",
    "\n",
    "#set up predictor variables and their squares\n",
    "continuous = df[['Income', 'Limit', 'Rating', 'Cards', 'Age', 'Education']]\n",
    "continuous_sq = np.array(continuous)**2\n",
    "\n",
    "#set up the dummy variables\n",
    "dummy = df[['Gender', 'Student' , 'Married', 'Ethnicity']]\n",
    "dummy = pd.get_dummies(dummy,  drop_first=True) #Note I drop the first dummy to avoid collinearity\n",
    "\n",
    "#merge dataframe\n",
    "raw_characs = pd.merge(continuous, dummy, left_index=True, right_index=True)\n",
    "\n",
    "#create all the interaction terms, the 'include_bias' is an intercept\n",
    "interactions = PolynomialFeatures(interaction_only = True, include_bias = False).fit_transform(raw_characs)\n",
    "\n",
    "#join columns\n",
    "X = np.concatenate((continuous_sq,interactions),axis=1)\n",
    "\n",
    "print 'Number of predictors: %s'%X.shape[1]"
   ]
  },
  {
   "cell_type": "markdown",
   "metadata": {},
   "source": [
    "# Part b\n",
    "\n",
    "Below I fit the Lasso to the data set up in part a\n",
    "\n",
    "http://scikit-learn.org/stable/modules/generated/sklearn.linear_model.Lasso.html\n"
   ]
  },
  {
   "cell_type": "code",
   "execution_count": 12,
   "metadata": {},
   "outputs": [
    {
     "name": "stdout",
     "output_type": "stream",
     "text": [
      "[ 3.57615455e-02  1.54890712e-05 -2.38701805e-03  1.37606136e+00\n",
      " -7.79643370e-03 -2.35078506e-01 -2.50132643e+00  9.31890403e-02\n",
      "  1.23603379e-01  0.00000000e+00  1.57921207e+00  1.91708251e+00\n",
      "  0.00000000e+00  0.00000000e+00  0.00000000e+00  0.00000000e+00\n",
      " -0.00000000e+00 -1.83888966e-03 -3.57083121e-03 -1.26306605e-01\n",
      "  2.56903604e-02 -5.25278654e-02  6.53193822e-01 -2.42117500e+00\n",
      " -1.77477286e-01  7.69473526e-01  6.64823998e-01  3.71337448e-04\n",
      " -3.16926799e-03 -2.63821311e-04 -6.17165092e-04 -2.75389034e-02\n",
      "  9.99173356e-02 -1.25203062e-02 -1.97500091e-02  1.33839223e-02\n",
      "  7.70639610e-02 -3.68850171e-03  1.66197826e-02  2.73097444e-01\n",
      " -2.35699717e-01  1.84372367e-01  1.68592554e-01 -3.40609256e-01\n",
      "  9.14540196e-03 -6.95809827e-02 -5.66611047e+00  9.63795545e+00\n",
      " -0.00000000e+00 -0.00000000e+00  5.19125137e+00 -1.26091123e-02\n",
      " -2.11618193e-01  4.90220919e-01  8.38213759e-02  6.39540392e-01\n",
      " -1.28320482e-01  2.29265801e+00  7.72346886e+00  2.16080897e-02\n",
      " -2.22883439e+00  2.86179764e+00 -0.00000000e+00  1.92614300e+00\n",
      "  0.00000000e+00 -0.00000000e+00  0.00000000e+00 -0.00000000e+00\n",
      "  0.00000000e+00  0.00000000e+00 -1.45875973e+01  0.00000000e+00]\n",
      "-261.8494524453621\n"
     ]
    }
   ],
   "source": [
    "#fit the lasso to it, notice the second parameter is 0\n",
    "#why do you think that is?\n",
    "lasso = Lasso(alpha=.5) #note that alpha corresponds to lambda\n",
    "lasso.fit(X, y)\n",
    "print(lasso.coef_)\n",
    "print(lasso.intercept_)"
   ]
  },
  {
   "cell_type": "markdown",
   "metadata": {},
   "source": [
    "# Part c\n",
    "\n",
    "I use the following function to calculate mean squared error. Implementing something similiar is not hard\n",
    "\n",
    "http://scikit-learn.org/stable/modules/generated/sklearn.metrics.mean_squared_error.html"
   ]
  },
  {
   "cell_type": "code",
   "execution_count": 15,
   "metadata": {},
   "outputs": [
    {
     "name": "stdout",
     "output_type": "stream",
     "text": [
      "MSE: 2713.976858251182\n"
     ]
    }
   ],
   "source": [
    "#prepare fitted data to compare using MSE function\n",
    "\n",
    "fitted_y = lasso.predict(X)\n",
    "print'MSE: %s'%mean_squared_error(y, fitted_y)"
   ]
  },
  {
   "cell_type": "markdown",
   "metadata": {},
   "source": [
    "# Part d\n",
    "\n",
    "Below I calcualte the cross-validated MSE.\n",
    "\n",
    "For more on $k$-fold cross validation you can read the discussion on page 181 of the textbook"
   ]
  },
  {
   "cell_type": "code",
   "execution_count": 23,
   "metadata": {},
   "outputs": [
    {
     "name": "stdout",
     "output_type": "stream",
     "text": [
      "CV Fold 1: 3058.2058551388445 \n",
      "\n",
      "CV Fold 2: 4786.382287358859 \n",
      "\n",
      "CV Fold 3: 4267.441165389353 \n",
      "\n",
      "CV Fold 4: 4252.2117876857255 \n",
      "\n",
      "CV Fold 5: 4360.013302927697 \n",
      "\n",
      "Mean CV: 4144.850879700096\n"
     ]
    }
   ],
   "source": [
    "CV = []\n",
    "\n",
    "for i in range(5):\n",
    "    #compute start/end of fold\n",
    "    start_index = (nobs/5)*i\n",
    "    end_index = (nobs/5)*(i+1)\n",
    "    \n",
    "    #partition data\n",
    "    X_test =  X[start_index:end_index]\n",
    "    y_test = y[start_index:end_index]\n",
    "    \n",
    "    X_train = np.concatenate( (X[0:start_index],X[end_index:]) )\n",
    "    y_train = np.concatenate( (y[0:start_index],y[end_index:]) )\n",
    "          \n",
    "    #estimate model\n",
    "    l = Lasso(alpha=.5)\n",
    "    l.fit(X_train,y_train)\n",
    "    fitted_y = l.predict(X_test)\n",
    "    \n",
    "    CV.append(mean_squared_error(y_test, fitted_y))\n",
    "    print 'CV Fold %s: %s \\n'%((i+1), CV[i])\n",
    "    \n",
    "print 'Mean CV: %s'%(np.array(CV).sum()/5)"
   ]
  },
  {
   "cell_type": "markdown",
   "metadata": {},
   "source": [
    "If you wanted to reuse the code above for the rest of the assignment to do the cross validation, I would recommend defining a function that takes `X`, `y` and `cv` as arguments\n",
    "\n",
    "You could have also used the folowing function to do the cross validation. It gives us the same answer. From here on out, I will be using this function (for reasons realted to numpy arrays, it runs faster than my code).\n",
    "\n",
    "https://scikit-learn.org/stable/modules/generated/sklearn.model_selection.cross_val_score.html"
   ]
  },
  {
   "cell_type": "code",
   "execution_count": 28,
   "metadata": {},
   "outputs": [
    {
     "name": "stdout",
     "output_type": "stream",
     "text": [
      "[-3058.20585514 -4786.38228736 -4267.44116539 -4252.21178769\n",
      " -4360.01330293]\n"
     ]
    }
   ],
   "source": [
    "CV_MSE = -cross_val_score(lasso ,X,y,cv=5, scoring='neg_mean_squared_error')\n",
    "\n",
    "print CV_MSE"
   ]
  },
  {
   "cell_type": "markdown",
   "metadata": {},
   "source": [
    "# Part E\n",
    "\n",
    "The cross validated MSE is higher as expected. If you train the data using the same observations that you test with, you over fit."
   ]
  },
  {
   "cell_type": "markdown",
   "metadata": {},
   "source": [
    "# Part f\n",
    "\n",
    "You can find more information about the Lasso with cross validation here\n",
    "\n",
    "http://scikit-learn.org/stable/modules/generated/sklearn.linear_model.LassoCV.html"
   ]
  },
  {
   "cell_type": "code",
   "execution_count": 44,
   "metadata": {},
   "outputs": [
    {
     "name": "stdout",
     "output_type": "stream",
     "text": [
      "Optimal Lambda: 5\n",
      "Optimal CV: 3973.882712457094\n"
     ]
    }
   ],
   "source": [
    "#first we use scipy's function to learn the optimal lambda\n",
    "lambda_values = np.array(range(0,1000,5)) # create a grid\n",
    "\n",
    "#fit model using grid\n",
    "lass_cv = LassoCV(cv=5, alphas=lambda_values)\n",
    "lass_cv.fit(X, y)\n",
    "\n",
    "print 'Optimal Lambda: %s'%lass_cv.alpha_\n",
    "fitted_y_cv = lass_cv.predict(X)\n",
    "\n"
   ]
  },
  {
   "cell_type": "markdown",
   "metadata": {},
   "source": [
    "Below I create the loop, There is an error from including $\\lambda = 0$"
   ]
  },
  {
   "cell_type": "code",
   "execution_count": 45,
   "metadata": {},
   "outputs": [
    {
     "name": "stderr",
     "output_type": "stream",
     "text": [
      "/home/erichschulman/anaconda2/lib/python2.7/site-packages/ipykernel_launcher.py:6: UserWarning: With alpha=0, this algorithm does not converge well. You are advised to use the LinearRegression estimator\n",
      "  \n",
      "/home/erichschulman/anaconda2/lib/python2.7/site-packages/sklearn/linear_model/coordinate_descent.py:477: UserWarning: Coordinate descent with no regularization may lead to unexpected results and is discouraged.\n",
      "  positive)\n",
      "/home/erichschulman/anaconda2/lib/python2.7/site-packages/sklearn/model_selection/_validation.py:458: UserWarning: With alpha=0, this algorithm does not converge well. You are advised to use the LinearRegression estimator\n",
      "  estimator.fit(X_train, y_train, **fit_params)\n"
     ]
    },
    {
     "data": {
      "text/plain": [
       "[<matplotlib.lines.Line2D at 0x7f80da11af90>]"
      ]
     },
     "execution_count": 45,
     "metadata": {},
     "output_type": "execute_result"
    },
    {
     "data": {
      "image/png": "[encoded data removed]",
      "text/plain": [
       "<Figure size 432x288 with 1 Axes>"
      ]
     },
     "metadata": {},
     "output_type": "display_data"
    }
   ],
   "source": [
    "#iteratively fit model and create a graph\n",
    "CV = []\n",
    "\n",
    "for lamb in lambda_values:\n",
    "    l = Lasso(alpha=lamb)\n",
    "    l.fit(X, y)\n",
    "    CV_i = -cross_val_score(l ,X,y,cv=5, scoring='neg_mean_squared_error').mean()\n",
    "    CV.append(CV_i)\n",
    "    \n",
    "#graph result\n",
    "plt.plot(lambda_values, CV)"
   ]
  },
  {
   "cell_type": "markdown",
   "metadata": {},
   "source": [
    "# Part G\n",
    "\n",
    "Results"
   ]
  },
  {
   "cell_type": "code",
   "execution_count": 54,
   "metadata": {},
   "outputs": [
    {
     "name": "stdout",
     "output_type": "stream",
     "text": [
      "------------------------------------\n",
      "Optimal CV (by fold)\n",
      "------------------------------------\n",
      "             0\n",
      "0  3095.661316\n",
      "1  4763.120499\n",
      "2  4129.510981\n",
      "3  3776.295843\n",
      "4  4104.824924\n",
      "------------------------------------\n",
      "Optimal CV mean\n",
      "------------------------------------\n",
      "3973.882712457094\n",
      "------------------------------------\n",
      "Optimal coefficients\n",
      "------------------------------------\n",
      "           0         1         2         3\n",
      "0   0.036731  0.000015 -0.002569  0.750141\n",
      "1   0.000787 -0.170828 -1.308208  0.081483\n",
      "2   0.045372  0.000000  0.000000  0.000000\n",
      "3   0.000000  0.000000  0.000000 -0.000000\n",
      "4   0.000000 -0.001852 -0.004309 -0.183982\n",
      "5   0.017492 -0.058847  0.483030 -2.506834\n",
      "6  -0.106928  0.513170  0.453609  0.000406\n",
      "7  -0.002823 -0.000095 -0.000547 -0.012519\n",
      "8   0.063449 -0.003387 -0.006465 -0.004851\n",
      "9   0.086230 -0.004592  0.017920  0.080052\n",
      "10  0.376288  0.038107 -0.000000 -0.034222\n",
      "11  0.055762  0.000000 -0.000000  0.000000\n",
      "12 -0.000000 -0.000000  0.000000  0.003430\n",
      "13 -0.000000  1.222131  0.057055  0.491354\n",
      "14 -0.000000  0.647638  3.885032 -0.000000\n",
      "15 -1.051317  1.944906 -0.000000  0.000000\n",
      "16  0.000000 -0.000000  0.000000 -0.000000\n",
      "17  0.000000  0.000000 -0.000000  0.000000\n",
      "------------------------------------\n",
      "Optimal intercept\n",
      "------------------------------------\n",
      "-194.97690759176328\n"
     ]
    }
   ],
   "source": [
    "#use the optimal lambda, to calculate a CV score\n",
    "optimal_lasso = Lasso(alpha=lass_cv.alpha_)\n",
    "\n",
    "optimal_cv = -cross_val_score(optimal_lasso,X,y,cv=5, scoring='neg_mean_squared_error')\n",
    "print '------------------------------------'\n",
    "print 'Optimal CV (by fold)'\n",
    "print '------------------------------------'\n",
    "print pd.DataFrame(optimal_cv)\n",
    "print '------------------------------------'\n",
    "print 'Optimal CV mean'\n",
    "print '------------------------------------'\n",
    "print optimal_cv.mean()\n",
    "print '------------------------------------'\n",
    "print 'Optimal coefficients'\n",
    "print '------------------------------------'\n",
    "print pd.DataFrame(lass_cv.coef_.reshape(18,4))\n",
    "print '------------------------------------'\n",
    "print 'Optimal intercept'\n",
    "print '------------------------------------'\n",
    "print (lass_cv.intercept_)\n"
   ]
  },
  {
   "cell_type": "code",
   "execution_count": null,
   "metadata": {},
   "outputs": [],
   "source": []
  }
 ],
 "metadata": {
  "kernelspec": {
   "display_name": "Python 2",
   "language": "python",
   "name": "python2"
  },
  "language_info": {
   "codemirror_mode": {
    "name": "ipython",
    "version": 2
   },
   "file_extension": ".py",
   "mimetype": "text/x-python",
   "name": "python",
   "nbconvert_exporter": "python",
   "pygments_lexer": "ipython2",
   "version": "2.7.15"
  }
 },
 "nbformat": 4,
 "nbformat_minor": 2
}

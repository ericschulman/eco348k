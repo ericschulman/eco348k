{
 "cells": [
  {
   "cell_type": "code",
   "execution_count": 1,
   "metadata": {},
   "outputs": [],
   "source": [
    "import numpy as np #general library, will come in handy later\n",
    "import pandas as pd #another nice library for storing matrices, it rely's on numpy\n",
    "\n",
    "import matplotlib.pyplot as plt #this library is for graphing things\n",
    "\n",
    "from sklearn.linear_model import Lasso #These libraries have the necessary models\n",
    "from sklearn.metrics import mean_squared_error\n",
    "from sklearn.linear_model import LassoCV"
   ]
  },
  {
   "cell_type": "markdown",
   "metadata": {},
   "source": [
    "# Part a\n",
    "\n",
    "This will help you get started looking at descriptive statistics for the data. I reccomend storing it in memory as a pandas dataframe\n",
    "\n",
    "https://pandas.pydata.org/pandas-docs/version/0.21/generated/pandas.DataFrame.html\n",
    "\n",
    "Some important points\n",
    "\n",
    "* **Update**: `Balance` is the dependent variable\n",
    "* You will need to create the interaction effects for the Lasso"
   ]
  },
  {
   "cell_type": "code",
   "execution_count": 2,
   "metadata": {},
   "outputs": [
    {
     "name": "stdout",
     "output_type": "stream",
     "text": [
      "Unnamed: 0     200.500000\n",
      "Income          45.218885\n",
      "Limit         4735.600000\n",
      "Rating         354.940000\n",
      "Cards            2.957500\n",
      "Age             55.667500\n",
      "Education       13.450000\n",
      "Balance        520.015000\n",
      "dtype: float64\n"
     ]
    }
   ],
   "source": [
    "#load data\n",
    "df = pd.read_csv('credit.csv')\n",
    "\n",
    "print df.mean()"
   ]
  },
  {
   "cell_type": "markdown",
   "metadata": {},
   "source": [
    "**Update**: The following hint should help you set up the interaction effects. I have not created all of them, but this should demonstrate the general approach"
   ]
  },
  {
   "cell_type": "code",
   "execution_count": 3,
   "metadata": {},
   "outputs": [
    {
     "name": "stdout",
     "output_type": "stream",
     "text": [
      "Unnamed: 0         2.005000e+02\n",
      "Income             4.521889e+01\n",
      "Limit              4.735600e+03\n",
      "Rating             3.549400e+02\n",
      "Cards              2.957500e+00\n",
      "Age                5.566750e+01\n",
      "Education          1.345000e+01\n",
      "Balance            5.200150e+02\n",
      "Limit*Income       2.784145e+05\n",
      "Limit*Limit        2.774037e+07\n",
      "Limit*Rating       2.035984e+06\n",
      "Limit*Cards        1.403784e+04\n",
      "Limit*Age          2.676259e+05\n",
      "Limit*Education    6.352438e+04\n",
      "dtype: float64\n"
     ]
    }
   ],
   "source": [
    "#get the variable names in a list\n",
    "column_names =  df.columns.values[1:-1] #select the columns we want\n",
    "df_extended = df.copy() #make a copy to edit\n",
    "\n",
    "for column in column_names:\n",
    "    interaction_name = 'Limit*%s'%column\n",
    "    df_extended[interaction_name] = df_extended[column]*df_extended['Limit']\n",
    "    \n",
    "print df_extended.mean()"
   ]
  },
  {
   "cell_type": "markdown",
   "metadata": {},
   "source": [
    "# Part b\n",
    "\n",
    "The following code shows you how to fit a Lasso to a hypothetical data set for more information you can refer to the documentation\n",
    "\n",
    "http://scikit-learn.org/stable/modules/generated/sklearn.linear_model.Lasso.html\n"
   ]
  },
  {
   "cell_type": "code",
   "execution_count": 4,
   "metadata": {},
   "outputs": [],
   "source": [
    "#generate some fake data\n",
    "nobs = 1000\n",
    "\n",
    "#the first coefficient is much more important than the second\n",
    "beta = np.array([10,1])\n",
    "X = np.random.random((nobs , 2))\n",
    "e = np.random.random(nobs )\n",
    "y = 1 + np.dot(X, beta) + e"
   ]
  },
  {
   "cell_type": "code",
   "execution_count": 5,
   "metadata": {},
   "outputs": [
    {
     "name": "stdout",
     "output_type": "stream",
     "text": [
      "[3.76669335 0.        ]\n",
      "5.1441185575393265\n"
     ]
    }
   ],
   "source": [
    "#fit the lasso to it, notice the second parameter is 0\n",
    "#why do you think that is?\n",
    "lasso = Lasso(alpha=.5) #note that alpha corresponds to lambda\n",
    "lasso.fit(X, y)\n",
    "print(lasso.coef_)\n",
    "print(lasso.intercept_)"
   ]
  },
  {
   "cell_type": "markdown",
   "metadata": {},
   "source": [
    "# Part c\n",
    "\n",
    "The following function should help with this part\n",
    "\n",
    "http://scikit-learn.org/stable/modules/generated/sklearn.metrics.mean_squared_error.html\n",
    "\n",
    "Alternatively, implementing MSE manually is not difficult"
   ]
  },
  {
   "cell_type": "code",
   "execution_count": 6,
   "metadata": {},
   "outputs": [
    {
     "name": "stdout",
     "output_type": "stream",
     "text": [
      "7.046503803174159\n"
     ]
    }
   ],
   "source": [
    "#prepare fitted data to compare using MSE function\n",
    "\n",
    "fitted_y = lasso.predict(X)\n",
    "print fitted_y.mean()"
   ]
  },
  {
   "cell_type": "markdown",
   "metadata": {},
   "source": [
    "# Part d\n",
    "\n",
    "For more on $k$-fold cross validation you can read the discussion on page 181 of the textbook"
   ]
  },
  {
   "cell_type": "code",
   "execution_count": 7,
   "metadata": {},
   "outputs": [
    {
     "name": "stdout",
     "output_type": "stream",
     "text": [
      "Fold 0, Coefficients: [3.92554736 0.        ], Intercept: 5.103875688340898 \n",
      "\n",
      "Fold 1, Coefficients: [3.71021392 0.        ], Intercept: 5.158665265532849 \n",
      "\n",
      "Fold 2, Coefficients: [3.6304335 0.       ], Intercept: 5.210976630798151 \n",
      "\n",
      "Fold 3, Coefficients: [3.84895817 0.        ], Intercept: 5.083500052803934 \n",
      "\n",
      "Fold 4, Coefficients: [3.70463609 0.        ], Intercept: 5.169849691721166 \n",
      "\n"
     ]
    }
   ],
   "source": [
    "for i in range(5):\n",
    "    #compute start/end of fold\n",
    "    start_index = (nobs/5)*i\n",
    "    end_index = (nobs/5)*(i+1)\n",
    "    \n",
    "    #partition data\n",
    "    X_test =  X[start_index:end_index]\n",
    "    y_test = y[start_index:end_index]\n",
    "    \n",
    "    X_train = np.concatenate( (X[0:start_index],X[end_index:]) )\n",
    "    y_train = np.concatenate( (y[0:start_index],y[end_index:]) )\n",
    "          \n",
    "    #estimate model\n",
    "    l = Lasso(alpha=.5)\n",
    "    l.fit(X_train,y_train)\n",
    "    print 'Fold %s, Coefficients: %s, Intercept: %s \\n'%(i, l.coef_, l.intercept_)\n",
    "\n",
    "#from here you can figure out CV_n"
   ]
  },
  {
   "cell_type": "markdown",
   "metadata": {},
   "source": [
    "# Part f\n",
    "\n",
    "You can find more information about the Lasso with cross validation here\n",
    "\n",
    "http://scikit-learn.org/stable/modules/generated/sklearn.linear_model.LassoCV.html\n",
    "\n",
    "Remember, the assignment asks you to **manually** create the grid and search over $\\lambda$, so this library is only for helping you check your answer\n",
    "\n",
    "**Update**: Make sure to specify a value of `alphas` when checking your solution. If you do not, the value of $\\lambda$ may be very large"
   ]
  },
  {
   "cell_type": "code",
   "execution_count": 8,
   "metadata": {},
   "outputs": [
    {
     "name": "stdout",
     "output_type": "stream",
     "text": [
      "[8.81820539 0.        ]\n",
      "2.5928299119107567\n",
      "0.1\n"
     ]
    }
   ],
   "source": [
    "#Specify a grid of lambda values to optimize over.\n",
    "lambda_values = .1*np.array(range(1,5))\n",
    "\n",
    "lass_cv = LassoCV(cv=5, alphas = lambda_values).fit(X, y)\n",
    "lass_cv.fit(X, y)\n",
    "\n",
    "#The lass gets as close as possible (given our grid)\n",
    "print(lass_cv.coef_)\n",
    "print(lass_cv.intercept_)\n",
    "print(lass_cv.alpha_)"
   ]
  },
  {
   "cell_type": "markdown",
   "metadata": {},
   "source": [
    "The routine below will help you construct your graph. Be aware that I am not doing any cross validation in this loop"
   ]
  },
  {
   "cell_type": "code",
   "execution_count": 9,
   "metadata": {},
   "outputs": [
    {
     "name": "stdout",
     "output_type": "stream",
     "text": [
      "[0.1 0.2 0.3 0.4]\n",
      "[5.1441185575393265, 5.1441185575393265, 5.1441185575393265, 5.1441185575393265]\n"
     ]
    },
    {
     "data": {
      "text/plain": [
       "[<matplotlib.lines.Line2D at 0x7f013b4fb250>]"
      ]
     },
     "execution_count": 9,
     "metadata": {},
     "output_type": "execute_result"
    },
    {
     "data": {
      "image/png": "[encoded data removed]",
      "text/plain": [
       "<Figure size 432x288 with 1 Axes>"
      ]
     },
     "metadata": {},
     "output_type": "display_data"
    }
   ],
   "source": [
    "#iteratively fit model and create a graph\n",
    "intercepts = []\n",
    "lambda_values = .1*np.array(range(1,5))\n",
    "\n",
    "print lambda_values\n",
    "\n",
    "for lamb in lambda_values:\n",
    "    l = Lasso(alpha=lamb)\n",
    "    l.fit(X, y)\n",
    "    intercepts.append(lasso.intercept_)\n",
    "print intercepts\n",
    "    \n",
    "#graph result\n",
    "plt.plot(lambda_values, intercepts)"
   ]
  },
  {
   "cell_type": "code",
   "execution_count": null,
   "metadata": {},
   "outputs": [],
   "source": []
  }
 ],
 "metadata": {
  "kernelspec": {
   "display_name": "Python 2",
   "language": "python",
   "name": "python2"
  },
  "language_info": {
   "codemirror_mode": {
    "name": "ipython",
    "version": 2
   },
   "file_extension": ".py",
   "mimetype": "text/x-python",
   "name": "python",
   "nbconvert_exporter": "python",
   "pygments_lexer": "ipython2",
   "version": "2.7.15"
  }
 },
 "nbformat": 4,
 "nbformat_minor": 2
}

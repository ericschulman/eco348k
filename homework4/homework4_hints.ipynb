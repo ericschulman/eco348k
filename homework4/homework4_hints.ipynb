{
 "cells": [
  {
   "cell_type": "code",
   "execution_count": 10,
   "metadata": {},
   "outputs": [],
   "source": [
    "import numpy as np #general library, will come in handy later\n",
    "import pandas as pd #another nice library for storing matrices, it rely's on numpy\n",
    "\n",
    "import matplotlib.pyplot as plt #this library is for graphing things\n",
    "\n",
    "from sklearn.linear_model import Lasso #These libraries have the necessary models\n",
    "from sklearn.metrics import mean_squared_error\n",
    "from sklearn.linear_model import LassoCV"
   ]
  },
  {
   "cell_type": "markdown",
   "metadata": {},
   "source": [
    "# Part a\n",
    "\n",
    "This will help you get started looking at descriptive statistics for the data. I reccomend storing it in memory as a pandas dataframe\n",
    "\n",
    "https://pandas.pydata.org/pandas-docs/version/0.21/generated/pandas.DataFrame.html"
   ]
  },
  {
   "cell_type": "code",
   "execution_count": 11,
   "metadata": {},
   "outputs": [
    {
     "name": "stdout",
     "output_type": "stream",
     "text": [
      "Unnamed: 0     200.500000\n",
      "Income          45.218885\n",
      "Limit         4735.600000\n",
      "Rating         354.940000\n",
      "Cards            2.957500\n",
      "Age             55.667500\n",
      "Education       13.450000\n",
      "Balance        520.015000\n",
      "dtype: float64\n"
     ]
    }
   ],
   "source": [
    "#load data\n",
    "df = pd.read_csv('credit.csv')\n",
    "\n",
    "print df.mean()"
   ]
  },
  {
   "cell_type": "markdown",
   "metadata": {},
   "source": [
    "# Part b\n",
    "\n",
    "The following code shows you how to fit a Lasso to a hypothetical data set for more information you can refer to the documentation\n",
    "\n",
    "http://scikit-learn.org/stable/modules/generated/sklearn.linear_model.Lasso.html\n"
   ]
  },
  {
   "cell_type": "code",
   "execution_count": 12,
   "metadata": {},
   "outputs": [],
   "source": [
    "#generate some fake data\n",
    "nobs = 1000\n",
    "\n",
    "#the first coefficient is much more important than the second\n",
    "beta = np.array([10,1])\n",
    "X = np.random.random((nobs , 2))\n",
    "e = np.random.random(nobs )\n",
    "y = 1 + np.dot(X, beta) + e"
   ]
  },
  {
   "cell_type": "code",
   "execution_count": 13,
   "metadata": {},
   "outputs": [
    {
     "name": "stdout",
     "output_type": "stream",
     "text": [
      "[4.06263177 0.        ]\n",
      "5.031887073569649\n"
     ]
    }
   ],
   "source": [
    "#fit the lasso to it, notice the second parameter is 0\n",
    "#why do you think that is?\n",
    "lasso = Lasso(alpha=.5) #note that alpha corresponds to lambda\n",
    "lasso.fit(X, y)\n",
    "print(lasso.coef_)\n",
    "print(lasso.intercept_)"
   ]
  },
  {
   "cell_type": "markdown",
   "metadata": {},
   "source": [
    "# Part c\n",
    "\n",
    "The following function should help with this part http://scikit-learn.org/stable/modules/generated/sklearn.metrics.mean_squared_error.html\n",
    "\n",
    "Alternatively, implementing MSE manually should not be difficult"
   ]
  },
  {
   "cell_type": "code",
   "execution_count": 14,
   "metadata": {},
   "outputs": [
    {
     "name": "stdout",
     "output_type": "stream",
     "text": [
      "7.090905586755302\n"
     ]
    }
   ],
   "source": [
    "#prepare fitted data to compare using MSE function\n",
    "\n",
    "fitted_y = lasso.predict(X)\n",
    "print fitted_y.mean()"
   ]
  },
  {
   "cell_type": "markdown",
   "metadata": {},
   "source": [
    "# Part d\n",
    "\n",
    "For more on $k$-fold cross validation you can read the discussion on page 181 of the textbook"
   ]
  },
  {
   "cell_type": "code",
   "execution_count": 15,
   "metadata": {},
   "outputs": [
    {
     "name": "stdout",
     "output_type": "stream",
     "text": [
      "Lasso 0, Coefficients: [4.20002782 0.        ], Intercept: 4.95003323723301 \n",
      "\n",
      "Lasso 1, Coefficients: [4.0895891 0.       ], Intercept: 5.064228843327697 \n",
      "\n",
      "Lasso 2, Coefficients: [3.97882266 0.        ], Intercept: 5.061427868444906 \n",
      "\n",
      "Lasso 3, Coefficients: [4.04849373 0.        ], Intercept: 5.035878824783593 \n",
      "\n",
      "Lasso 4, Coefficients: [3.98545932 0.        ], Intercept: 5.052981208839846 \n",
      "\n"
     ]
    }
   ],
   "source": [
    "for i in range(5):\n",
    "    #compute start/end of fold\n",
    "    start_index = (nobs/5)*i\n",
    "    end_index = (nobs/5)*(i+1)\n",
    "    \n",
    "    #partition data\n",
    "    X_test =  X[start_index:end_index]\n",
    "    y_test = y[start_index:end_index]\n",
    "    \n",
    "    X_train = np.concatenate( (X[0:start_index],X[end_index:]) )\n",
    "    y_train = np.concatenate( (y[0:start_index],y[end_index:]) )\n",
    "          \n",
    "    #estimate model\n",
    "    l = Lasso(alpha=.5)\n",
    "    l.fit(X_train,y_train)\n",
    "    print 'Lasso %s, Coefficients: %s, Intercept: %s \\n'%(i, l.coef_, l.intercept_)\n",
    "\n",
    "#from here you can figure out CV_n"
   ]
  },
  {
   "cell_type": "markdown",
   "metadata": {},
   "source": [
    "# Part f\n",
    "\n",
    "You can find more information about the Lasso with cross validation here http://scikit-learn.org/stable/modules/generated/sklearn.linear_model.LassoCV.html\n",
    "\n",
    "Remember, the assignment asks you to manually create the grid and search over $\\lambda$, so this library is only for helping you check your answer"
   ]
  },
  {
   "cell_type": "code",
   "execution_count": 16,
   "metadata": {},
   "outputs": [
    {
     "name": "stdout",
     "output_type": "stream",
     "text": [
      "[9.97257277 0.98181798]\n",
      "1.5436817345725489\n"
     ]
    }
   ],
   "source": [
    "lass_cv = LassoCV(cv=5).fit(X, y)\n",
    "lass_cv.fit(X, y)\n",
    "\n",
    "#The lass finds the true model\n",
    "print(lass_cv.coef_)\n",
    "print(lass_cv.intercept_)"
   ]
  },
  {
   "cell_type": "markdown",
   "metadata": {},
   "source": [
    "The routine below will help you construct your graph. Be aware that I am not doing any cross validation in this loop"
   ]
  },
  {
   "cell_type": "code",
   "execution_count": 49,
   "metadata": {},
   "outputs": [
    {
     "name": "stdout",
     "output_type": "stream",
     "text": [
      "[0.1 0.2 0.3 0.4]\n",
      "[5.031887073569649, 5.031887073569649, 5.031887073569649, 5.031887073569649]\n"
     ]
    },
    {
     "data": {
      "text/plain": [
       "[<matplotlib.lines.Line2D at 0x7fbcb1f3e210>]"
      ]
     },
     "execution_count": 49,
     "metadata": {},
     "output_type": "execute_result"
    },
    {
     "data": {
      "image/png": "[encoded data removed]",
      "text/plain": [
       "<Figure size 432x288 with 1 Axes>"
      ]
     },
     "metadata": {},
     "output_type": "display_data"
    }
   ],
   "source": [
    "#iteratively fit model and create a graph\n",
    "intercepts = []\n",
    "lambda_values = .1*np.array(range(1,5))\n",
    "\n",
    "print lambda_values\n",
    "\n",
    "for lamb in lambda_values:\n",
    "    l = Lasso(alpha=lamb)\n",
    "    l.fit(X, y)\n",
    "    intercepts.append(lasso.intercept_)\n",
    "print intercepts\n",
    "    \n",
    "#graph result\n",
    "plt.plot(lambda_values, intercepts)"
   ]
  },
  {
   "cell_type": "code",
   "execution_count": null,
   "metadata": {},
   "outputs": [],
   "source": []
  }
 ],
 "metadata": {
  "kernelspec": {
   "display_name": "Python 2",
   "language": "python",
   "name": "python2"
  },
  "language_info": {
   "codemirror_mode": {
    "name": "ipython",
    "version": 2
   },
   "file_extension": ".py",
   "mimetype": "text/x-python",
   "name": "python",
   "nbconvert_exporter": "python",
   "pygments_lexer": "ipython2",
   "version": "2.7.15"
  }
 },
 "nbformat": 4,
 "nbformat_minor": 2
}

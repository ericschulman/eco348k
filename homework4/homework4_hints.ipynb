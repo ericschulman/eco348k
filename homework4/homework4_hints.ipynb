{
 "cells": [
  {
   "cell_type": "code",
   "execution_count": 1,
   "metadata": {},
   "outputs": [],
   "source": [
    "import numpy as np #general library, will come in handy later\n",
    "import pandas as pd #another nice library for storing matrices, it rely's on numpy\n",
    "\n",
    "import matplotlib.pyplot as plt #this library is for graphing things\n",
    "\n",
    "from sklearn.linear_model import Lasso #These libraries have the necessary models\n",
    "from sklearn.metrics import mean_squared_error\n",
    "from sklearn.linear_model import LassoCV"
   ]
  },
  {
   "cell_type": "markdown",
   "metadata": {},
   "source": [
    "# Part a\n",
    "\n",
    "This will help you get started looking at descriptive statistics for the data. I reccomend storing it in memory as a pandas dataframe\n",
    "\n",
    "https://pandas.pydata.org/pandas-docs/version/0.21/generated/pandas.DataFrame.html"
   ]
  },
  {
   "cell_type": "code",
   "execution_count": 2,
   "metadata": {},
   "outputs": [
    {
     "name": "stdout",
     "output_type": "stream",
     "text": [
      "Unnamed: 0     200.500000\n",
      "Income          45.218885\n",
      "Limit         4735.600000\n",
      "Rating         354.940000\n",
      "Cards            2.957500\n",
      "Age             55.667500\n",
      "Education       13.450000\n",
      "Balance        520.015000\n",
      "dtype: float64\n"
     ]
    }
   ],
   "source": [
    "#load data\n",
    "df = pd.read_csv('credit.csv')\n",
    "\n",
    "print df.mean()"
   ]
  },
  {
   "cell_type": "markdown",
   "metadata": {},
   "source": [
    "# Part b\n",
    "\n",
    "The following code shows you how to fit a Lasso to a hypothetical data set for more information you can refer to the documentation\n",
    "\n",
    "http://scikit-learn.org/stable/modules/generated/sklearn.linear_model.Lasso.html\n"
   ]
  },
  {
   "cell_type": "code",
   "execution_count": 3,
   "metadata": {},
   "outputs": [],
   "source": [
    "#generate some fake data\n",
    "nobs = 1000\n",
    "\n",
    "#the first coefficient is much more important than the second\n",
    "beta = np.array([10,1])\n",
    "X = np.random.random((nobs , 2))\n",
    "e = np.random.random(nobs )\n",
    "y = 1 + np.dot(X, beta) + e"
   ]
  },
  {
   "cell_type": "code",
   "execution_count": 4,
   "metadata": {},
   "outputs": [
    {
     "name": "stdout",
     "output_type": "stream",
     "text": [
      "[4.26627061 0.        ]\n",
      "4.7853120211025235\n"
     ]
    }
   ],
   "source": [
    "#fit the lasso to it, notice the second parameter is 0\n",
    "#why do you think that is?\n",
    "lasso = Lasso(alpha=.5)\n",
    "lasso.fit(X, y)\n",
    "print(lasso.coef_)\n",
    "print(lasso.intercept_)"
   ]
  },
  {
   "cell_type": "markdown",
   "metadata": {},
   "source": [
    "# Part c\n",
    "\n",
    "The following function should help with this part http://scikit-learn.org/stable/modules/generated/sklearn.metrics.mean_squared_error.html\n",
    "\n",
    "Alternatively, implementing MSE manually should not be difficult"
   ]
  },
  {
   "cell_type": "code",
   "execution_count": 5,
   "metadata": {},
   "outputs": [
    {
     "name": "stdout",
     "output_type": "stream",
     "text": [
      "6.872962092428729\n"
     ]
    }
   ],
   "source": [
    "#prepare fitted data to compare using MSE function\n",
    "\n",
    "fitted_y = lasso.predict(X)\n",
    "print fitted_y.mean()"
   ]
  },
  {
   "cell_type": "markdown",
   "metadata": {},
   "source": [
    "# Part d\n",
    "\n",
    "For more on $k$-fold cross validation you can read the discussion on page 181 of the textbook"
   ]
  },
  {
   "cell_type": "code",
   "execution_count": 6,
   "metadata": {},
   "outputs": [
    {
     "name": "stdout",
     "output_type": "stream",
     "text": [
      "Lasso 0, Coefficients: [4.29010632 0.        ], Intercept: 4.7632405482173175 \n",
      "\n",
      "Lasso 1, Coefficients: [4.31979403 0.        ], Intercept: 4.81617625339824 \n",
      "\n",
      "Lasso 2, Coefficients: [4.26535528 0.        ], Intercept: 4.794605954383568 \n",
      "\n",
      "Lasso 3, Coefficients: [4.20487878 0.        ], Intercept: 4.784392272307597 \n",
      "\n",
      "Lasso 4, Coefficients: [4.23817871 0.        ], Intercept: 4.773353179776716 \n",
      "\n"
     ]
    }
   ],
   "source": [
    "for i in range(5):\n",
    "    #compute start/end of fold\n",
    "    start_index = (nobs/5)*i\n",
    "    end_index = (nobs/5)*(i+1)\n",
    "    \n",
    "    #partition data\n",
    "    X_test =  X[start_index:end_index]\n",
    "    y_test = y[start_index:end_index]\n",
    "    \n",
    "    X_train = np.concatenate( (X[0:start_index],X[end_index:]) )\n",
    "    y_train = np.concatenate( (y[0:start_index],y[end_index:]) )\n",
    "          \n",
    "    #estimate model\n",
    "    l = Lasso(alpha=.5)\n",
    "    l.fit(X_train,y_train)\n",
    "    print 'Lasso %s, Coefficients: %s, Intercept: %s \\n'%(i, l.coef_, l.intercept_)\n",
    "\n",
    "#from here you can figure out CV_n"
   ]
  },
  {
   "cell_type": "markdown",
   "metadata": {},
   "source": [
    "# Part f\n",
    "\n",
    "You can find more information about the Lasso with cross validation here http://scikit-learn.org/stable/modules/generated/sklearn.linear_model.LassoCV.html\n",
    "\n",
    "Remember, the assignment asks you to manually create the grid and search over $\\lambda$, so this library is only for helping you check your answer\n",
    "\n",
    "For f) ii) you will want to use the matplotlib library as in homework 2"
   ]
  },
  {
   "cell_type": "code",
   "execution_count": 7,
   "metadata": {},
   "outputs": [
    {
     "name": "stdout",
     "output_type": "stream",
     "text": [
      "[9.97217806 0.93467214]\n",
      "1.5351560534173903\n"
     ]
    }
   ],
   "source": [
    "lass_cv = LassoCV(cv=5).fit(X, y)\n",
    "lass_cv.fit(X, y)\n",
    "\n",
    "#The lass finds the true model\n",
    "print(lass_cv.coef_)\n",
    "print(lass_cv.intercept_)"
   ]
  }
 ],
 "metadata": {
  "kernelspec": {
   "display_name": "Python 2",
   "language": "python",
   "name": "python2"
  },
  "language_info": {
   "codemirror_mode": {
    "name": "ipython",
    "version": 2
   },
   "file_extension": ".py",
   "mimetype": "text/x-python",
   "name": "python",
   "nbconvert_exporter": "python",
   "pygments_lexer": "ipython2",
   "version": "2.7.15"
  }
 },
 "nbformat": 4,
 "nbformat_minor": 2
}
